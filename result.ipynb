{
 "cells": [
  {
   "cell_type": "code",
   "execution_count": 1,
   "metadata": {},
   "outputs": [],
   "source": [
    "import pandas as pd\n",
    "import numpy as np\n",
    "\n",
    "from sklearn.feature_extraction.text import TfidfVectorizer\n",
    "from sklearn.model_selection import train_test_split\n",
    "from sklearn.metrics import classification_report\n",
    "\n",
    "from keras.models import load_model\n",
    "from sklearn.feature_extraction.text import TfidfVectorizer\n",
    "from sklearn.metrics import classification_report, accuracy_score\n",
    "from joblib import load"
   ]
  },
  {
   "cell_type": "code",
   "execution_count": 2,
   "metadata": {},
   "outputs": [],
   "source": [
    "df = pd.read_csv('dataset/cleaned_dota2_chat.csv')\n",
    "\n",
    "# Split the data into training and testing sets\n",
    "train_data, test_data = train_test_split(df, test_size=0.3, random_state=42)\n",
    "\n",
    "# Extract the text and labels\n",
    "train_texts = train_data['cleaned_text']\n",
    "train_labels = train_data['label']\n",
    "test_texts = test_data['cleaned_text']\n",
    "test_labels = test_data['label']\n",
    "\n",
    "# Ensure train_texts and test_texts are lists of strings\n",
    "train_texts = list(train_texts) if isinstance(train_texts, (pd.Series, np.ndarray)) else train_texts\n",
    "test_texts = list(test_texts) if isinstance(test_texts, (pd.Series, np.ndarray)) else test_texts\n",
    "\n",
    "# Vectorize text using TF-IDF\n",
    "tfidf_vectorizer = TfidfVectorizer(max_features=5000)\n",
    "train_tfidf_vectors = tfidf_vectorizer.fit_transform(train_texts)\n",
    "test_tfidf_vectors = tfidf_vectorizer.transform(test_texts)"
   ]
  },
  {
   "cell_type": "code",
   "execution_count": 3,
   "metadata": {},
   "outputs": [
    {
     "name": "stderr",
     "output_type": "stream",
     "text": [
      "WARNING:absl:Compiled the loaded model, but the compiled metrics have yet to be built. `model.compile_metrics` will be empty until you train or evaluate the model.\n",
      "WARNING:absl:Compiled the loaded model, but the compiled metrics have yet to be built. `model.compile_metrics` will be empty until you train or evaluate the model.\n",
      "WARNING:absl:Compiled the loaded model, but the compiled metrics have yet to be built. `model.compile_metrics` will be empty until you train or evaluate the model.\n"
     ]
    },
    {
     "name": "stdout",
     "output_type": "stream",
     "text": [
      "\u001b[1m167/167\u001b[0m \u001b[32m━━━━━━━━━━━━━━━━━━━━\u001b[0m\u001b[37m\u001b[0m \u001b[1m10s\u001b[0m 59ms/step - accuracy: 0.8363 - loss: 0.4341\n",
      "\u001b[1m167/167\u001b[0m \u001b[32m━━━━━━━━━━━━━━━━━━━━\u001b[0m\u001b[37m\u001b[0m \u001b[1m50s\u001b[0m 293ms/step - accuracy: 0.8363 - loss: 0.4462\n",
      "\u001b[1m110/167\u001b[0m \u001b[32m━━━━━━━━━━━━━\u001b[0m\u001b[37m━━━━━━━\u001b[0m \u001b[1m28s\u001b[0m 498ms/step - accuracy: 0.8358 - loss: 0.4468"
     ]
    }
   ],
   "source": [
    "# Load the saved ML models\n",
    "logistic_regression_model = load('results/model_Logistic Regression.joblib')\n",
    "svm_model = load('results/model_Support Vector Machine.joblib')\n",
    "random_forest_model = load('results/model_Random Forest.joblib')\n",
    "gradient_boosting_model = load('results/model_Gradient Boosting.joblib')\n",
    "mlp_model = load('results/model_Neural Network.joblib')\n",
    "\n",
    "# Load the saved DL models\n",
    "loaded_cnn_model = load_model('results/cnn_model.h5')\n",
    "loaded_rnn_model = load_model('results/rnn_model.h5')\n",
    "loaded_lstm_model = load_model('results/lstm_model.h5')\n",
    "\n",
    "# Evaluate the loaded ML models\n",
    "logistic_regression_predictions = logistic_regression_model.predict(test_tfidf_vectors)\n",
    "svm_predictions = svm_model.predict(test_tfidf_vectors)\n",
    "random_forest_predictions = random_forest_model.predict(test_tfidf_vectors)\n",
    "gradient_boosting_predictions = gradient_boosting_model.predict(test_tfidf_vectors)\n",
    "mlp_predictions = mlp_model.predict(test_tfidf_vectors)\n",
    "\n",
    "# Convert predictions to binary labels for ML models\n",
    "logistic_regression_pred_labels = logistic_regression_predictions\n",
    "svm_pred_labels = svm_predictions\n",
    "random_forest_pred_labels = random_forest_predictions\n",
    "gradient_boosting_pred_labels = gradient_boosting_predictions\n",
    "mlp_pred_labels = mlp_predictions\n",
    "\n",
    "# Evaluate the loaded DL models\n",
    "loaded_cnn_results = loaded_cnn_model.evaluate(test_tfidf_vectors, test_labels)\n",
    "loaded_rnn_results = loaded_rnn_model.evaluate(test_tfidf_vectors, test_labels)\n",
    "loaded_lstm_results = loaded_lstm_model.evaluate(test_tfidf_vectors, test_labels)\n",
    "\n",
    "# Predict using the loaded DL models\n",
    "cnn_predictions = loaded_cnn_model.predict(test_tfidf_vectors)\n",
    "rnn_predictions = loaded_rnn_model.predict(test_tfidf_vectors)\n",
    "lstm_predictions = loaded_lstm_model.predict(test_tfidf_vectors)\n",
    "\n",
    "# Convert predictions to binary labels for DL models\n",
    "cnn_pred_labels = (cnn_predictions > 0.5).astype(int).flatten()\n",
    "rnn_pred_labels = (rnn_predictions > 0.5).astype(int).flatten()\n",
    "lstm_pred_labels = (lstm_predictions > 0.5).astype(int).flatten()\n",
    "\n",
    "# Print classification reports\n",
    "print(\"Logistic Regression Classification Report:\")\n",
    "print(classification_report(test_labels, logistic_regression_pred_labels))\n",
    "\n",
    "print(\"SVM Classification Report:\")\n",
    "print(classification_report(test_labels, svm_pred_labels))\n",
    "\n",
    "print(\"Random Forest Classification Report:\")\n",
    "print(classification_report(test_labels, random_forest_pred_labels))\n",
    "\n",
    "print(\"Gradient Boosting Classification Report:\")\n",
    "print(classification_report(test_labels, gradient_boosting_pred_labels))\n",
    "\n",
    "print(\"MLP Classification Report:\")\n",
    "print(classification_report(test_labels, mlp_pred_labels))\n",
    "\n",
    "print(\"CNN Classification Report:\")\n",
    "print(classification_report(test_labels, cnn_pred_labels))\n",
    "\n",
    "print(\"RNN Classification Report:\")\n",
    "print(classification_report(test_labels, rnn_pred_labels))\n",
    "\n",
    "print(\"LSTM Classification Report:\")\n",
    "print(classification_report(test_labels, lstm_pred_labels))\n",
    "\n",
    "# Print accuracy scores for comparison\n",
    "print(f\"Logistic Regression Accuracy: {accuracy_score(test_labels, logistic_regression_pred_labels)}\")\n",
    "print(f\"SVM Accuracy: {accuracy_score(test_labels, svm_pred_labels)}\")\n",
    "print(f\"Random Forest Accuracy: {accuracy_score(test_labels, random_forest_pred_labels)}\")\n",
    "print(f\"Gradient Boosting Accuracy: {accuracy_score(test_labels, gradient_boosting_pred_labels)}\")\n",
    "print(f\"MLP Accuracy: {accuracy_score(test_labels, mlp_pred_labels)}\")\n",
    "print(f\"CNN Accuracy: {accuracy_score(test_labels, cnn_pred_labels)}\")\n",
    "print(f\"RNN Accuracy: {accuracy_score(test_labels, rnn_pred_labels)}\")\n",
    "print(f\"LSTM Accuracy: {accuracy_score(test_labels, lstm_pred_labels)}\")"
   ]
  }
 ],
 "metadata": {
  "kernelspec": {
   "display_name": "Python 3",
   "language": "python",
   "name": "python3"
  },
  "language_info": {
   "codemirror_mode": {
    "name": "ipython",
    "version": 3
   },
   "file_extension": ".py",
   "mimetype": "text/x-python",
   "name": "python",
   "nbconvert_exporter": "python",
   "pygments_lexer": "ipython3",
   "version": "3.11.4"
  }
 },
 "nbformat": 4,
 "nbformat_minor": 2
}
